{
 "cells": [
  {
   "cell_type": "code",
   "execution_count": 2,
   "metadata": {
    "collapsed": false
   },
   "outputs": [
    {
     "name": "stdout",
     "output_type": "stream",
     "text": [
      "Populating the interactive namespace from numpy and matplotlib\n"
     ]
    }
   ],
   "source": [
    "import numpy as np\n",
    "import scipy.stats as sps\n",
    "import matplotlib.pyplot as plt\n",
    "from statsmodels.distributions.empirical_distribution import ECDF\n",
    "%pylab inline"
   ]
  },
  {
   "cell_type": "markdown",
   "metadata": {},
   "source": [
    "# Нахождение параметра сдвига распределения Коши"
   ]
  },
  {
   "cell_type": "code",
   "execution_count": 3,
   "metadata": {
    "collapsed": false
   },
   "outputs": [],
   "source": [
    "cauchy_txt = open('cauchy.txt')\n",
    "sample_c = np.array([float(line) for line in cauchy_txt])"
   ]
  },
  {
   "cell_type": "markdown",
   "metadata": {},
   "source": [
    "Оценим параметр сдвига методом максимального правдоподобия по <b>половине</b> выборки."
   ]
  },
  {
   "cell_type": "code",
   "execution_count": 4,
   "metadata": {
    "collapsed": false
   },
   "outputs": [],
   "source": [
    "#время работы ~40с\n",
    "N = sample_c.size\n",
    "MLE_arr = np.array([np.sum(sps.cauchy.logpdf(sample_c[:N/2], loc=i, scale=1)) for i in np.arange(-1000, 1000, 0.01)])"
   ]
  },
  {
   "cell_type": "code",
   "execution_count": 7,
   "metadata": {
    "collapsed": false
   },
   "outputs": [
    {
     "name": "stdout",
     "output_type": "stream",
     "text": [
      "Параметр равен -355.18\n"
     ]
    }
   ],
   "source": [
    "m = round(0.01*np.argmax(MLE_arr) - 1000, 2)\n",
    "print \"Параметр равен\", m "
   ]
  },
  {
   "cell_type": "code",
   "execution_count": 8,
   "metadata": {
    "collapsed": false
   },
   "outputs": [],
   "source": [
    "#Время работы ~45c\n",
    "N = sample_c.size\n",
    "MLE_arr = np.array([np.sum(sps.cauchy.logpdf(sample_c, loc=i, scale=1)) for i in np.arange(-1000, 1000, 0.01)])"
   ]
  },
  {
   "cell_type": "markdown",
   "metadata": {},
   "source": [
    "Оценим теперь параметр сдвига методом максимального правдоподобия по <b>всей</b> выборке."
   ]
  },
  {
   "cell_type": "code",
   "execution_count": 9,
   "metadata": {
    "collapsed": false
   },
   "outputs": [
    {
     "name": "stdout",
     "output_type": "stream",
     "text": [
      "Параметр равен -355.18 .\n"
     ]
    }
   ],
   "source": [
    "m = round(0.01*np.argmax(MLE_arr) - 1000, 2)\n",
    "print \"Параметр равен\", m, \".\""
   ]
  },
  {
   "cell_type": "markdown",
   "metadata": {},
   "source": [
    "Получили такую же оценку параметра сдвига."
   ]
  },
  {
   "cell_type": "markdown",
   "metadata": {},
   "source": [
    "Сравним эмпирическую функцию распределения с функцией распределения с полученным параметром сдвига."
   ]
  },
  {
   "cell_type": "code",
   "execution_count": 12,
   "metadata": {
    "collapsed": false
   },
   "outputs": [
    {
     "data": {
      "image/png": "[encoded data removed]",
      "text/plain": [
       "<matplotlib.figure.Figure at 0x9242320>"
      ]
     },
     "metadata": {},
     "output_type": "display_data"
    }
   ],
   "source": [
    "ecdf_c  = ECDF(sample_c)\n",
    "figure(figsize(10, 5))\n",
    "plt.step(ecdf_c.x, ecdf_c.y, label='ECDF')\n",
    "plot(ecdf_c.x, sps.cauchy.cdf(ecdf_c.x, loc=m, scale=1) , label='Cauchy')\n",
    "plt.xlim(-360, -350)\n",
    "plt.grid()\n",
    "plt.legend(loc=2)\n",
    "plt.show()"
   ]
  },
  {
   "cell_type": "markdown",
   "metadata": {},
   "source": [
    "# Определение методом максимального правдоподобия коэффициента формы распределения Вейбулла. "
   ]
  },
  {
   "cell_type": "code",
   "execution_count": 13,
   "metadata": {
    "collapsed": true
   },
   "outputs": [],
   "source": [
    "weibull_txt = open('weibull.txt')\n",
    "sample_w = np.array([float(line) for line in weibull_txt])"
   ]
  },
  {
   "cell_type": "code",
   "execution_count": 14,
   "metadata": {
    "collapsed": true
   },
   "outputs": [],
   "source": [
    "N = 365*4 + 1\n",
    "MLE_arr_w_4y = np.array([np.sum(sps.weibull_min.logpdf(sample_w[:N], c=i)) for i in (10 ** np.arange(-2, 2, 0.001))])"
   ]
  },
  {
   "cell_type": "code",
   "execution_count": 15,
   "metadata": {
    "collapsed": false
   },
   "outputs": [
    {
     "name": "stdout",
     "output_type": "stream",
     "text": [
      "Параметр равен 26.0\n"
     ]
    }
   ],
   "source": [
    "w_4y = round(10 ** (np.argmax(MLE_arr_w_4y)*0.001 - 2))\n",
    "print \"Параметр равен\", w_4y"
   ]
  },
  {
   "cell_type": "code",
   "execution_count": 16,
   "metadata": {
    "collapsed": false
   },
   "outputs": [],
   "source": [
    "N = sample_w.size\n",
    "MLE_arr_w = np.array([np.sum(sps.weibull_min.logpdf(sample_w, c=i)) for i in (10 ** np.arange(-2, 2, 0.001))])"
   ]
  },
  {
   "cell_type": "code",
   "execution_count": 17,
   "metadata": {
    "collapsed": false
   },
   "outputs": [
    {
     "name": "stdout",
     "output_type": "stream",
     "text": [
      "Параметр равен 26.0\n"
     ]
    }
   ],
   "source": [
    "w = round(10 ** (np.argmax(MLE_arr_w)*0.001 - 2))\n",
    "print \"Параметр равен\", w"
   ]
  },
  {
   "cell_type": "code",
   "execution_count": 20,
   "metadata": {
    "collapsed": false
   },
   "outputs": [
    {
     "data": {
      "image/png": "[encoded data removed]",
      "text/plain": [
       "<matplotlib.figure.Figure at 0xa70ea58>"
      ]
     },
     "metadata": {},
     "output_type": "display_data"
    }
   ],
   "source": [
    "ecdf_w = ECDF(sample_w)\n",
    "figure(figsize(10, 5))\n",
    "plt.step(ecdf_w.x, ecdf_w.y, label='ECDF')\n",
    "plot(ecdf_w.x, sps.weibull_min.cdf(ecdf_w.x, c=w), label='Weibull')\n",
    "plt.xlim(0.85, 1.08)\n",
    "plt.grid()\n",
    "plt.legend(loc=2)\n",
    "plt.show()"
   ]
  },
  {
   "cell_type": "markdown",
   "metadata": {},
   "source": [
    "### Вывод:"
   ]
  },
  {
   "cell_type": "markdown",
   "metadata": {},
   "source": [
    "Из построенных графиков видим, что методом максимального правдоподобия можно весьма точно оценить параметры распределений."
   ]
  }
 ],
 "metadata": {
  "kernelspec": {
   "display_name": "Python 2",
   "language": "python",
   "name": "python2"
  },
  "language_info": {
   "codemirror_mode": {
    "name": "ipython",
    "version": 2
   },
   "file_extension": ".py",
   "mimetype": "text/x-python",
   "name": "python",
   "nbconvert_exporter": "python",
   "pygments_lexer": "ipython2",
   "version": "2.7.11"
  }
 },
 "nbformat": 4,
 "nbformat_minor": 0
}
