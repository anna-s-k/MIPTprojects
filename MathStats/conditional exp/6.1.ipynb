{
 "cells": [
  {
   "cell_type": "code",
   "execution_count": 32,
   "metadata": {
    "collapsed": false
   },
   "outputs": [
    {
     "name": "stdout",
     "output_type": "stream",
     "text": [
      "Populating the interactive namespace from numpy and matplotlib\n"
     ]
    }
   ],
   "source": [
    "import numpy as np\n",
    "import time\n",
    "%pylab inline"
   ]
  },
  {
   "cell_type": "markdown",
   "metadata": {},
   "source": [
    "Имеем:\n",
    "\n",
    "$N_t-N_s \\sim Pois(\\lambda(t-s))$\n",
    "\n",
    "$N_t-N_s{\\perp\\!\\!\\!\\perp}N_t$.\n",
    "\n",
    "Тогда, \n",
    "\n",
    "$\\mathbb{E}(N_t\\mid N_s) = \\mathbb{E}(N_s + (N_t - N_s) \\mid N_s) = N_s + \\mathbb{E}(N_t - N_s) = N_s + \\lambda(t - s)$"
   ]
  },
  {
   "cell_type": "code",
   "execution_count": 33,
   "metadata": {
    "collapsed": false
   },
   "outputs": [],
   "source": [
    "data = open(\"6.1_data.txt\")\n",
    "l = float(data.readline())\n",
    "N_moments = np.array([float(line.strip()) for line in data])"
   ]
  },
  {
   "cell_type": "code",
   "execution_count": 34,
   "metadata": {
    "collapsed": false
   },
   "outputs": [],
   "source": [
    "def pred(t):\n",
    "    condition = (N_moments <= t)\n",
    "    return np.extract(condition, N_moments).size + l * (60 - t)  # число вышедших из строя    "
   ]
  },
  {
   "cell_type": "code",
   "execution_count": 36,
   "metadata": {
    "collapsed": false
   },
   "outputs": [
    {
     "name": "stdout",
     "output_type": "stream",
     "text": [
      "0 16.92\n",
      "1 16.638\n",
      "2 16.356\n",
      "3 16.074\n",
      "4 15.792\n",
      "5 15.51\n",
      "6 15.228\n",
      "7 14.946\n",
      "8 14.664\n",
      "9 14.382\n",
      "10 14.1\n",
      "11 13.818\n",
      "12 13.536\n",
      "13 14.254\n",
      "14 13.972\n",
      "15 13.69\n",
      "16 13.408\n",
      "17 13.126\n",
      "18 12.844\n",
      "19 12.562\n",
      "20 12.28\n",
      "21 11.998\n",
      "22 11.716\n",
      "23 11.434\n",
      "24 12.152\n",
      "25 11.87\n",
      "26 13.588\n",
      "27 14.306\n",
      "28 14.024\n",
      "29 13.742\n",
      "30 13.46\n",
      "31 13.178\n",
      "32 12.896\n",
      "33 12.614\n",
      "34 12.332\n",
      "35 13.05\n",
      "36 12.768\n",
      "37 12.486\n",
      "38 13.204\n",
      "39 12.922\n",
      "40 12.64\n",
      "41 13.358\n",
      "42 13.076\n",
      "43 12.794\n",
      "44 12.512\n",
      "45 12.23\n",
      "46 11.948\n",
      "47 11.666\n",
      "48 11.384\n",
      "49 12.102\n",
      "50 11.82\n",
      "51 11.538\n",
      "52 11.256\n",
      "53 10.974\n",
      "54 11.692\n",
      "55 11.41\n",
      "56 11.128\n",
      "57 10.846\n",
      "58 10.564\n",
      "59 10.282\n",
      "60 10.0\n"
     ]
    }
   ],
   "source": [
    "for t in range(61):\n",
    "    time.sleep(1)\n",
    "    print t, pred(t)"
   ]
  },
  {
   "cell_type": "code",
   "execution_count": null,
   "metadata": {
    "collapsed": true
   },
   "outputs": [],
   "source": []
  }
 ],
 "metadata": {
  "kernelspec": {
   "display_name": "Python 2",
   "language": "python",
   "name": "python2"
  },
  "language_info": {
   "codemirror_mode": {
    "name": "ipython",
    "version": 2
   },
   "file_extension": ".py",
   "mimetype": "text/x-python",
   "name": "python",
   "nbconvert_exporter": "python",
   "pygments_lexer": "ipython2",
   "version": "2.7.11"
  }
 },
 "nbformat": 4,
 "nbformat_minor": 0
}
