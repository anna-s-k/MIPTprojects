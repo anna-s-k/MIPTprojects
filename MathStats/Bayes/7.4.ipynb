{
 "cells": [
  {
   "cell_type": "code",
   "execution_count": 4,
   "metadata": {
    "collapsed": true
   },
   "outputs": [],
   "source": [
    "import numpy as np\n",
    "import scipy.stats as sps\n",
    "import matplotlib.pyplot as plt\n",
    "import time\n",
    "import pandas as pd\n",
    "%matplotlib inline"
   ]
  },
  {
   "cell_type": "markdown",
   "metadata": {},
   "source": [
    "Из условия имеем, что время между $i$-м моментом выхода сервера из строя и $i+1$-м равное $\\xi_i$ имеет экспоненциальное распределение $exp(\\lambda)$. Тогда \n",
    "$N_t-N_s \\sim Pois(\\lambda(t-s))$\n",
    "и\n",
    "$N_t-N_s{\\perp\\!\\!\\!\\perp}N_t$, где $N_t$ — количество серверов, которые вышли из строя к моменту $t$.\n",
    "\n",
    "Отсюда, \n",
    "\n",
    "$\\mathbb{E}(N_t\\mid N_s) = \\mathbb{E}(N_s + (N_t - N_s) \\mid N_s) = N_s + \\mathbb{E}(N_t - N_s) = N_s + \\lambda(t - s)$"
   ]
  },
  {
   "cell_type": "code",
   "execution_count": 5,
   "metadata": {
    "collapsed": true
   },
   "outputs": [],
   "source": [
    "data = open(\"data.txt\")\n",
    "l = float(data.readline())\n",
    "N_moments = np.array([float(line.strip()) for line in data])"
   ]
  },
  {
   "cell_type": "code",
   "execution_count": 6,
   "metadata": {
    "collapsed": true
   },
   "outputs": [],
   "source": [
    "sample = N_moments[1:] - N_moments[:-1]\n",
    "sample = np.insert(sample, 0, N_moments[0])"
   ]
  },
  {
   "cell_type": "markdown",
   "metadata": {},
   "source": [
    "Оценим параметр $\\lambda$ с помощью байсовской оценки.\n",
    "\n",
    "Сопряженное распределение к эксоненциальному - гамма-распределение с параметрами\n",
    "\n",
    "$\\alpha = \\alpha_0+n, \\beta=\\beta_0+\\sum_{i=1}^n x_i$, где $\\alpha_0, \\beta_0$ — параметры априорного распределения. Так как мы не имеем никаких данных о серверах возьмем $\\alpha_0 = 1, \\beta_0 = 1$.\n"
   ]
  },
  {
   "cell_type": "code",
   "execution_count": 7,
   "metadata": {
    "collapsed": true
   },
   "outputs": [],
   "source": [
    "def est(a, b, sample):\n",
    "    return (float(a) + np.arange(sample.size + 1)) / (b + np.insert(sample.cumsum(), 0, 0))"
   ]
  },
  {
   "cell_type": "code",
   "execution_count": 8,
   "metadata": {
    "collapsed": true
   },
   "outputs": [],
   "source": [
    "estimation = est(1, 1, sample)"
   ]
  },
  {
   "cell_type": "markdown",
   "metadata": {},
   "source": [
    "Предсказывая количество серверов, которые выйдут из строя, будем в качестве параметра $\\lambda$ брать байесовскою оценку."
   ]
  },
  {
   "cell_type": "code",
   "execution_count": 13,
   "metadata": {
    "collapsed": true
   },
   "outputs": [],
   "source": [
    "def pred(t):\n",
    "    num = np.extract((N_moments <= t), N_moments).size\n",
    "    l1 = estimation[num]\n",
    "    return  num + l1 * (60 - t)  # число вышедших из строя    "
   ]
  },
  {
   "cell_type": "code",
   "execution_count": 14,
   "metadata": {
    "collapsed": false
   },
   "outputs": [],
   "source": [
    "time = np.sort(np.append(np.arange(61), N_moments))\n",
    "prediction = np.array(['break' if i in N_moments else pred(i) for i in time])"
   ]
  },
  {
   "cell_type": "code",
   "execution_count": 15,
   "metadata": {
    "collapsed": false
   },
   "outputs": [
    {
     "name": "stdout",
     "output_type": "stream",
     "text": [
      "0.0\t60.0\n",
      "1.0\t59.0\n",
      "2.0\t58.0\n",
      "3.0\t57.0\n",
      "4.0\t56.0\n",
      "5.0\t55.0\n",
      "6.0\t54.0\n",
      "7.0\t53.0\n",
      "8.0\t52.0\n",
      "9.0\t51.0\n",
      "10.0\t50.0\n",
      "11.0\t49.0\n",
      "12.0\t48.0\n",
      "12.663\tbreak\n",
      "13.0\t7.87989460587\n",
      "14.0\t7.73351386957\n",
      "15.0\t7.58713313328\n",
      "16.0\t7.44075239698\n",
      "17.0\t7.29437166069\n",
      "18.0\t7.14799092439\n",
      "19.0\t7.0016101881\n",
      "20.0\t6.8552294518\n",
      "21.0\t6.70884871551\n",
      "22.0\t6.56246797921\n",
      "23.0\t6.41608724292\n",
      "23.687\tbreak\n",
      "24.0\t6.37477214728\n",
      "25.0\t6.25325069875\n",
      "25.661\tbreak\n",
      "25.776\tbreak\n",
      "26.0\t10.3489692262\n",
      "26.243\tbreak\n",
      "27.0\t12.267922035\n",
      "28.0\t12.0476819734\n",
      "29.0\t11.8274419117\n",
      "30.0\t11.60720185\n",
      "31.0\t11.3869617883\n",
      "32.0\t11.1667217267\n",
      "33.0\t10.946481665\n",
      "34.0\t10.7262416033\n",
      "34.052\tbreak\n",
      "35.0\t10.9925824489\n",
      "36.0\t10.792879151\n",
      "37.0\t10.593175853\n",
      "37.249\tbreak\n",
      "38.0\t11.6014274883\n",
      "39.0\t11.3922716934\n",
      "40.0\t11.1831158985\n",
      "40.247\tbreak\n",
      "41.0\t12.145756055\n",
      "42.0\t11.9275583679\n",
      "43.0\t11.7093606808\n",
      "44.0\t11.4911629937\n",
      "45.0\t11.2729653066\n",
      "46.0\t11.0547676195\n",
      "47.0\t10.8365699324\n",
      "48.0\t10.6183722453\n",
      "48.397\tbreak\n",
      "49.0\t11.2268558819\n",
      "50.0\t11.0244144381\n",
      "51.0\t10.8219729943\n",
      "52.0\t10.6195315505\n",
      "53.0\t10.4170901067\n",
      "53.239\tbreak\n",
      "54.0\t11.2168365936\n",
      "55.0\t11.0140304947\n",
      "56.0\t10.8112243957\n",
      "57.0\t10.6084182968\n",
      "58.0\t10.4056121979\n",
      "59.0\t10.2028060989\n",
      "60.0\t10.0\n"
     ]
    }
   ],
   "source": [
    "for i in range(time.size):\n",
    "    print str(time[i]) + '\\t' + str(prediction[i])"
   ]
  }
 ],
 "metadata": {
  "kernelspec": {
   "display_name": "Python 2",
   "language": "python",
   "name": "python2"
  },
  "language_info": {
   "codemirror_mode": {
    "name": "ipython",
    "version": 2
   },
   "file_extension": ".py",
   "mimetype": "text/x-python",
   "name": "python",
   "nbconvert_exporter": "python",
   "pygments_lexer": "ipython2",
   "version": "2.7.11"
  }
 },
 "nbformat": 4,
 "nbformat_minor": 0
}
