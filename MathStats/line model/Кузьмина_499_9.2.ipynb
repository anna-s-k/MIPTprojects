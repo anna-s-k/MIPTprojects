{
 "cells": [
  {
   "cell_type": "code",
   "execution_count": 14,
   "metadata": {
    "collapsed": true
   },
   "outputs": [],
   "source": [
    "import pandas as pd\n",
    "import numpy as np\n",
    "import calendar\n",
    "import datetime\n",
    "import scipy.stats as sps"
   ]
  },
  {
   "cell_type": "code",
   "execution_count": 15,
   "metadata": {
    "collapsed": false
   },
   "outputs": [],
   "source": [
    "data = pd.read_table('data.txt', header=-1)"
   ]
  },
  {
   "cell_type": "markdown",
   "metadata": {},
   "source": [
    "Имеем, $X_i = \\beta_0 + i\\beta_1 + \\varepsilon_0 + \\varepsilon_1 + ... + \\varepsilon_n$\n",
    "\n",
    "Рассморим следующую линейную модель:\n",
    "\n",
    "$Y_0 = X_0 = \\beta_0 + \\varepsilon_0,$\n",
    "\n",
    "$Y_1 = X_1 - X_0 = \\beta_1 + \\varepsilon_1,$\n",
    "\n",
    "$Y_2 = X_2 - X_1 = \\beta_1 + \\varepsilon_2,$\n",
    "\n",
    "...\n",
    "\n",
    "$Y_n = X_n - X_{n-1} = \\beta_1 + \\varepsilon_n.$"
   ]
  },
  {
   "cell_type": "code",
   "execution_count": 16,
   "metadata": {
    "collapsed": true
   },
   "outputs": [],
   "source": [
    "data = open('data.txt')\n",
    "X = np.array(map(float, data.readlines()))\n",
    "Y = X - np.insert(X[:-1], 0, 0)"
   ]
  },
  {
   "cell_type": "code",
   "execution_count": 17,
   "metadata": {
    "collapsed": false
   },
   "outputs": [],
   "source": [
    "Z = np.array([np.zeros(Y.size), np.ones(Y.size)]).T\n",
    "Z[0][0] = 1\n",
    "Z[0][1] = 0"
   ]
  },
  {
   "cell_type": "code",
   "execution_count": 18,
   "metadata": {
    "collapsed": true
   },
   "outputs": [],
   "source": [
    "Theta = np.linalg.lstsq(Z, Y)"
   ]
  },
  {
   "cell_type": "code",
   "execution_count": 19,
   "metadata": {
    "collapsed": false
   },
   "outputs": [
    {
     "name": "stdout",
     "output_type": "stream",
     "text": [
      "beta_0 = 76.906042 beta_1 = 11.7757933167\n"
     ]
    }
   ],
   "source": [
    "print \"beta_0 =\", Theta[0][0], \"beta_1 =\", Theta[0][1]"
   ]
  },
  {
   "cell_type": "markdown",
   "metadata": {},
   "source": [
    "Несмещенная оценка $\\sigma^2$ - \n",
    "\n",
    "$\\widehat{\\sigma^2} = \\frac{1}{n-k} ||X-Z\\theta||^2$"
   ]
  },
  {
   "cell_type": "code",
   "execution_count": 20,
   "metadata": {
    "collapsed": false
   },
   "outputs": [
    {
     "name": "stdout",
     "output_type": "stream",
     "text": [
      "0.0700244482722\n"
     ]
    }
   ],
   "source": [
    "sigma_2 = np.linalg.norm(Y - np.dot(Z, Theta[0])) / (Y.size - 2)\n",
    "print sigma_2"
   ]
  },
  {
   "cell_type": "markdown",
   "metadata": {},
   "source": [
    "Оценка дисперсии отсчета времени $\\varepsilon_i^t$ ($\\varepsilon_i = \\varepsilon_i^t\\beta_2) -\\frac{\\widehat{\\sigma^2}}{\\beta_2^2}$:"
   ]
  },
  {
   "cell_type": "code",
   "execution_count": 24,
   "metadata": {
    "collapsed": false
   },
   "outputs": [
    {
     "name": "stdout",
     "output_type": "stream",
     "text": [
      "0.000504974382309\n"
     ]
    }
   ],
   "source": [
    "sigm_e = sigma_2 / Theta[0][1] ** 2\n",
    "print sigm_e"
   ]
  },
  {
   "cell_type": "code",
   "execution_count": 32,
   "metadata": {
    "collapsed": false
   },
   "outputs": [],
   "source": [
    "f = open(u\"499 Кузьмина Анна.txt\", 'w')\n",
    "f.write(str(Theta[0][0]) + ' ' +  str(Theta[0][1]) + ' ' + str(sigma_2) + ' ' + str(sigm_e))\n",
    "f.close()"
   ]
  }
 ],
 "metadata": {
  "kernelspec": {
   "display_name": "Python 2",
   "language": "python",
   "name": "python2"
  },
  "language_info": {
   "codemirror_mode": {
    "name": "ipython",
    "version": 2
   },
   "file_extension": ".py",
   "mimetype": "text/x-python",
   "name": "python",
   "nbconvert_exporter": "python",
   "pygments_lexer": "ipython2",
   "version": "2.7.11"
  }
 },
 "nbformat": 4,
 "nbformat_minor": 0
}
