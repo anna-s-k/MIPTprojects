{
 "cells": [
  {
   "cell_type": "code",
   "execution_count": 2,
   "metadata": {
    "collapsed": false
   },
   "outputs": [],
   "source": [
    "import pandas as pd\n",
    "import numpy as np\n",
    "import calendar\n",
    "import datetime\n",
    "import scipy.stats as sps\n",
    "import matplotlib.pyplot as plt\n",
    "%matplotlib inline"
   ]
  },
  {
   "cell_type": "code",
   "execution_count": 3,
   "metadata": {
    "collapsed": true
   },
   "outputs": [],
   "source": [
    "data = pd.read_csv('forestfires.csv')"
   ]
  },
  {
   "cell_type": "markdown",
   "metadata": {},
   "source": [
    "### Преобразование данных."
   ]
  },
  {
   "cell_type": "markdown",
   "metadata": {},
   "source": [
    "Заменим месяцы на индикаторы летнего месяца:"
   ]
  },
  {
   "cell_type": "code",
   "execution_count": 6,
   "metadata": {
    "collapsed": false
   },
   "outputs": [],
   "source": [
    "def num_to_month(st):\n",
    "    if st == 'aug' or st == 'jun' or st == 'jul':\n",
    "        return 1\n",
    "    else:\n",
    "        return 0\n",
    "data['month'] = map(num_to_month, data['month'])"
   ]
  },
  {
   "cell_type": "markdown",
   "metadata": {},
   "source": [
    "Удалим данные о дне недели:"
   ]
  },
  {
   "cell_type": "code",
   "execution_count": 7,
   "metadata": {
    "collapsed": false
   },
   "outputs": [],
   "source": [
    "data.drop('day', axis=1, inplace=True)"
   ]
  },
  {
   "cell_type": "markdown",
   "metadata": {},
   "source": [
    "Добавим единичый признак для свободного коэффициента:"
   ]
  },
  {
   "cell_type": "code",
   "execution_count": 8,
   "metadata": {
    "collapsed": true
   },
   "outputs": [],
   "source": [
    "data['c'] = 1"
   ]
  },
  {
   "cell_type": "code",
   "execution_count": 9,
   "metadata": {
    "collapsed": false
   },
   "outputs": [],
   "source": [
    "Mtrx = np.matrix(data.as_matrix())"
   ]
  },
  {
   "cell_type": "markdown",
   "metadata": {},
   "source": [
    "### Построение регрессионной модели."
   ]
  },
  {
   "cell_type": "markdown",
   "metadata": {},
   "source": [
    "Разобьем матрицу на две части в отношении 7:3"
   ]
  },
  {
   "cell_type": "code",
   "execution_count": 10,
   "metadata": {
    "collapsed": false
   },
   "outputs": [],
   "source": [
    "np.random.shuffle(Mtrx)"
   ]
  },
  {
   "cell_type": "code",
   "execution_count": 11,
   "metadata": {
    "collapsed": true
   },
   "outputs": [],
   "source": [
    "Area = Mtrx[:, [11]]\n",
    "Data = np.delete(Mtrx, 11, axis=1)"
   ]
  },
  {
   "cell_type": "code",
   "execution_count": 12,
   "metadata": {
    "collapsed": true
   },
   "outputs": [],
   "source": [
    "X = Area[:362]\n",
    "Z = Data[:362]\n",
    "X_test = Area[362:]\n",
    "Z_test = Data[362:]"
   ]
  },
  {
   "cell_type": "markdown",
   "metadata": {},
   "source": [
    "Построим методом наименьших квадратов линейную функцию от 12 аргументов, которая будет выражать координату \"area\" через другие данные. Оценка параметров этой функции имеет вид $\\widehat{\\theta} = (Z^T Z)^{-1}Z^T X$."
   ]
  },
  {
   "cell_type": "code",
   "execution_count": 13,
   "metadata": {
    "collapsed": true
   },
   "outputs": [],
   "source": [
    "Theta = (Z.T * Z).I * Z.T * X"
   ]
  },
  {
   "cell_type": "code",
   "execution_count": 14,
   "metadata": {
    "collapsed": false
   },
   "outputs": [
    {
     "data": {
      "text/plain": [
       "26.704323682888866"
      ]
     },
     "execution_count": 14,
     "metadata": {},
     "output_type": "execute_result"
    }
   ],
   "source": [
    "np.std(X_test - Z_test * Theta)"
   ]
  },
  {
   "cell_type": "markdown",
   "metadata": {},
   "source": [
    "Так как данные \"area\" распределены около нуля, воспользуемся логарифмическим <b>преобразованием</b> $f(x) = log(x + 1)$ этих данных."
   ]
  },
  {
   "cell_type": "code",
   "execution_count": 15,
   "metadata": {
    "collapsed": true
   },
   "outputs": [],
   "source": [
    "c = 1"
   ]
  },
  {
   "cell_type": "code",
   "execution_count": 16,
   "metadata": {
    "collapsed": true
   },
   "outputs": [],
   "source": [
    "X_log = np.log(X + c)\n",
    "X_test_log = np.log(X_test + c)"
   ]
  },
  {
   "cell_type": "code",
   "execution_count": 17,
   "metadata": {
    "collapsed": true
   },
   "outputs": [],
   "source": [
    "Theta = (Z.T * Z).I * Z.T * X_log"
   ]
  },
  {
   "cell_type": "markdown",
   "metadata": {},
   "source": [
    "Среднеквадратичная ошибка для преобразованных значений:"
   ]
  },
  {
   "cell_type": "code",
   "execution_count": 18,
   "metadata": {
    "collapsed": false
   },
   "outputs": [
    {
     "data": {
      "text/plain": [
       "1.3669592432563265"
      ]
     },
     "execution_count": 18,
     "metadata": {},
     "output_type": "execute_result"
    }
   ],
   "source": [
    "np.std(X_test_log - Z_test * Theta)"
   ]
  },
  {
   "cell_type": "markdown",
   "metadata": {},
   "source": [
    "Среднеквадратичная ошибка для значений"
   ]
  },
  {
   "cell_type": "code",
   "execution_count": 19,
   "metadata": {
    "collapsed": false
   },
   "outputs": [
    {
     "data": {
      "text/plain": [
       "21.873938655297547"
      ]
     },
     "execution_count": 19,
     "metadata": {},
     "output_type": "execute_result"
    }
   ],
   "source": [
    "np.std(np.exp(X_test_log) - c - Z_test * Theta)"
   ]
  },
  {
   "cell_type": "markdown",
   "metadata": {},
   "source": [
    "Для разных разбиейний выборки посмотрим на ошибку. Будем рассматривать только разбиения, для которых ранг матрицы обучающей выборка не меньше 12 (имеем матрицу 362x12)."
   ]
  },
  {
   "cell_type": "markdown",
   "metadata": {},
   "source": [
    "Для произвольного разбиения данных рассмотрим поводение среднеквадратичной ошибки при увелечении коэффициента $c$. "
   ]
  },
  {
   "cell_type": "code",
   "execution_count": 75,
   "metadata": {
    "collapsed": true
   },
   "outputs": [],
   "source": [
    "np.random.shuffle(Mtrx)\n",
    "std_array = np.array([])\n",
    "for c in np.arange(1, 100):    \n",
    "    Area = Mtrx[:, [11]]\n",
    "    Data = np.delete(Mtrx, 11, axis=1)\n",
    "    X = Area[:362]\n",
    "    Z = Data[:362]    \n",
    "    #print np.linalg.matrix_rank(Z)\n",
    "    if np.linalg.matrix_rank(Z) < 12:\n",
    "        c -= 1\n",
    "        continue\n",
    "    X_test = Area[362:]\n",
    "    Z_test = Data[362:]   \n",
    "    \n",
    "    X_log = np.log(X + c)\n",
    "    X_test_log = np.log(X_test + c)\n",
    "    Theta = (Z.T * Z).I * Z.T * X_log\n",
    "    std_array = np.append(std_array, np.std(np.exp(X_test_log) - c - Z_test * Theta))"
   ]
  },
  {
   "cell_type": "code",
   "execution_count": 76,
   "metadata": {
    "collapsed": false
   },
   "outputs": [
    {
     "data": {
      "image/png": "[encoded data removed]",
      "text/plain": [
       "<matplotlib.figure.Figure at 0x94f7f98>"
      ]
     },
     "metadata": {},
     "output_type": "display_data"
    }
   ],
   "source": [
    "x = np.arange(1, 100)\n",
    "plt.plot(x, std_array)\n",
    "plt.ylim(0, 1000000000)\n",
    "plt.grid()"
   ]
  },
  {
   "cell_type": "markdown",
   "metadata": {},
   "source": [
    "Видим, что с увеличеним коэффициента $c$ среднеквадратичная ошибка увеличивается. "
   ]
  },
  {
   "cell_type": "markdown",
   "metadata": {},
   "source": [
    "$c = 1$, 1000 разбиений:"
   ]
  },
  {
   "cell_type": "code",
   "execution_count": 29,
   "metadata": {
    "collapsed": false
   },
   "outputs": [],
   "source": [
    "c = 1\n",
    "std_array = np.array([])\n",
    "for i in range(1000):\n",
    "    np.random.shuffle(Mtrx)\n",
    "    Area = Mtrx[:, [11]]\n",
    "    Data = np.delete(Mtrx, 11, axis=1)\n",
    "    X = Area[:362]\n",
    "    Z = Data[:362]    \n",
    "    #print np.linalg.matrix_rank(Z)\n",
    "    if np.linalg.matrix_rank(Z) < 12:\n",
    "        continue\n",
    "    X_test = Area[362:]\n",
    "    Z_test = Data[362:]   \n",
    "    \n",
    "    X_log = np.log(X + c)\n",
    "    X_test_log = np.log(X_test + c)\n",
    "    Theta = (Z.T * Z).I * Z.T * X_log\n",
    "    std_array = np.append(std_array, np.std(np.exp(X_test_log) - c - Z_test * Theta))"
   ]
  },
  {
   "cell_type": "code",
   "execution_count": 30,
   "metadata": {
    "collapsed": false
   },
   "outputs": [
    {
     "data": {
      "image/png": "[encoded data removed]",
      "text/plain": [
       "<matplotlib.figure.Figure at 0xb1852e8>"
      ]
     },
     "metadata": {},
     "output_type": "display_data"
    }
   ],
   "source": [
    "plt.figure(figsize=(10, 5))\n",
    "plt.hist(std_array, 50)\n",
    "plt.grid()\n",
    "plt.show()"
   ]
  },
  {
   "cell_type": "markdown",
   "metadata": {},
   "source": [
    "Видим, что для наибольшего числа разбиений среднеквадратичная ошибка от 20 до 40."
   ]
  }
 ],
 "metadata": {
  "kernelspec": {
   "display_name": "Python 2",
   "language": "python",
   "name": "python2"
  },
  "language_info": {
   "codemirror_mode": {
    "name": "ipython",
    "version": 2
   },
   "file_extension": ".py",
   "mimetype": "text/x-python",
   "name": "python",
   "nbconvert_exporter": "python",
   "pygments_lexer": "ipython2",
   "version": "2.7.11"
  }
 },
 "nbformat": 4,
 "nbformat_minor": 0
}
